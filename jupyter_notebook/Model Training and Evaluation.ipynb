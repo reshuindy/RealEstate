{
 "cells": [
  {
   "cell_type": "markdown",
   "id": "efccda3e",
   "metadata": {},
   "source": [
    "Model Selection and Evaluation"
   ]
  },
  {
   "cell_type": "code",
   "execution_count": 1,
   "id": "806645c8",
   "metadata": {},
   "outputs": [],
   "source": [
    "\n",
    "\n",
    "#import libraries\n",
    "import pandas as pd\n",
    "import numpy as np\n",
    "from sklearn.preprocessing import LabelEncoder\n",
    "from sklearn.linear_model import LinearRegression\n",
    "from sklearn.ensemble import RandomForestRegressor\n",
    "from sklearn.svm import SVR\n",
    "from sklearn.metrics import mean_squared_error, r2_score\n",
    "import joblib\n",
    "import matplotlib.pyplot as plt\n",
    "import seaborn as sns\n",
    "\n",
    "%matplotlib inline\n"
   ]
  },
  {
   "cell_type": "code",
   "execution_count": 2,
   "id": "3e6bcaba",
   "metadata": {},
   "outputs": [
    {
     "name": "stderr",
     "output_type": "stream",
     "text": [
      "/var/folders/zw/6z44k3dj28b0lvg4nttddlh00000gn/T/ipykernel_28764/1132665356.py:3: DtypeWarning: Columns (8,9,10,11,12) have mixed types. Specify dtype option on import or set low_memory=False.\n",
      "  data = pd.read_csv(data_path)\n",
      "/var/folders/zw/6z44k3dj28b0lvg4nttddlh00000gn/T/ipykernel_28764/1132665356.py:27: SettingWithCopyWarning: \n",
      "A value is trying to be set on a copy of a slice from a DataFrame.\n",
      "Try using .loc[row_indexer,col_indexer] = value instead\n",
      "\n",
      "See the caveats in the documentation: https://pandas.pydata.org/pandas-docs/stable/user_guide/indexing.html#returning-a-view-versus-a-copy\n",
      "  X['Town'] = label_encoder_town.fit_transform(X['Town'])\n",
      "/var/folders/zw/6z44k3dj28b0lvg4nttddlh00000gn/T/ipykernel_28764/1132665356.py:28: SettingWithCopyWarning: \n",
      "A value is trying to be set on a copy of a slice from a DataFrame.\n",
      "Try using .loc[row_indexer,col_indexer] = value instead\n",
      "\n",
      "See the caveats in the documentation: https://pandas.pydata.org/pandas-docs/stable/user_guide/indexing.html#returning-a-view-versus-a-copy\n",
      "  X['Residential Type'] = label_encoder_residential_type.fit_transform(X['Residential Type'])\n"
     ]
    },
    {
     "data": {
      "text/plain": [
       "['label_encoder_residential_type.joblib']"
      ]
     },
     "execution_count": 2,
     "metadata": {},
     "output_type": "execute_result"
    }
   ],
   "source": [
    "# Load the Data\n",
    "data_path = '/Users/utkarsh/Desktop/readEstdata.csv'  # Update with your actual data path\n",
    "data = pd.read_csv(data_path)\n",
    "\n",
    "# Drop unnecessary columns\n",
    "columns_to_drop = ['Non Use Code', 'Assessor Remarks', 'OPM remarks', 'Location', 'Date Recorded', 'Address']\n",
    "data = data.drop(columns=columns_to_drop, errors='ignore')\n",
    "\n",
    "# Remove rows with null values in specified columns\n",
    "data = data.dropna(subset=['Town', 'Residential Type', 'Sale Amount', 'List Year'])\n",
    "\n",
    "# Convert 'List Year' to integer if it's not already\n",
    "data['List Year'] = data['List Year'].astype(int)\n",
    "\n",
    "# Ensure 'Sale Amount' is a float\n",
    "data['Sale Amount'] = data['Sale Amount'].astype(float)\n",
    "\n",
    "# Feature Selection\n",
    "features = ['Town', 'Residential Type', 'List Year']\n",
    "X = data[features]\n",
    "y = data['Sale Amount']\n",
    "\n",
    "# Label Encoding\n",
    "label_encoder_town = LabelEncoder()\n",
    "label_encoder_residential_type = LabelEncoder()\n",
    "\n",
    "X['Town'] = label_encoder_town.fit_transform(X['Town'])\n",
    "X['Residential Type'] = label_encoder_residential_type.fit_transform(X['Residential Type'])\n",
    "\n",
    "# Save the encoders\n",
    "joblib.dump(label_encoder_town, 'label_encoder_town.joblib')\n",
    "joblib.dump(label_encoder_residential_type, 'label_encoder_residential_type.joblib')\n"
   ]
  },
  {
   "cell_type": "markdown",
   "id": "57d705b2",
   "metadata": {},
   "source": [
    "#Linear Regression"
   ]
  },
  {
   "cell_type": "code",
   "execution_count": 3,
   "id": "0f6648a1",
   "metadata": {},
   "outputs": [
    {
     "name": "stdout",
     "output_type": "stream",
     "text": [
      "Linear Regression CV Scores (MSE): [2.45010906e+12 3.55784538e+11 4.62826739e+11 4.49085160e+11\n",
      " 5.22344624e+11]\n",
      "Mean CV Score (MSE): 848030023447.4722\n",
      "Standard Deviation of CV Scores: 802816591771.0247\n"
     ]
    }
   ],
   "source": [
    "\n",
    "# Initialize the Model\n",
    "lr_model = LinearRegression()\n",
    "\n",
    "# Perform 5-Fold Cross-Validation\n",
    "lr_cv_scores = cross_val_score(lr_model, X, y, cv=5, scoring='neg_mean_squared_error')\n",
    "\n",
    "# Convert negative MSE to positive\n",
    "lr_cv_scores = -lr_cv_scores\n",
    "\n",
    "# Calculate the Mean and Standard Deviation of the CV Scores\n",
    "lr_mean_cv_score = np.mean(lr_cv_scores)\n",
    "lr_std_cv_score = np.std(lr_cv_scores)\n",
    "\n",
    "print(f\"Linear Regression CV Scores (MSE): {lr_cv_scores}\")\n",
    "print(f\"Mean CV Score (MSE): {lr_mean_cv_score}\")\n",
    "print(f\"Standard Deviation of CV Scores: {lr_std_cv_score}\")\n"
   ]
  },
  {
   "cell_type": "markdown",
   "id": "c822b472",
   "metadata": {},
   "source": [
    "#Random Forest Regressor"
   ]
  },
  {
   "cell_type": "code",
   "execution_count": 4,
   "id": "162f007e",
   "metadata": {},
   "outputs": [
    {
     "name": "stdout",
     "output_type": "stream",
     "text": [
      "Random Forest CV Scores (MSE): [2.33612117e+12 2.22706845e+11 3.30574200e+11 2.89845120e+11\n",
      " 4.30450792e+11]\n",
      "Mean CV Score (MSE): 721939625109.8162\n",
      "Standard Deviation of CV Scores: 809895514535.4335\n"
     ]
    }
   ],
   "source": [
    "\n",
    "\n",
    "# Initialize the Model\n",
    "rf_model = RandomForestRegressor(random_state=42)\n",
    "\n",
    "# Perform 5-Fold Cross-Validation\n",
    "rf_cv_scores = cross_val_score(rf_model, X, y, cv=5, scoring='neg_mean_squared_error')\n",
    "\n",
    "# Convert negative MSE to positive\n",
    "rf_cv_scores = -rf_cv_scores\n",
    "\n",
    "# Calculate the Mean and Standard Deviation of the CV Scores\n",
    "rf_mean_cv_score = np.mean(rf_cv_scores)\n",
    "rf_std_cv_score = np.std(rf_cv_scores)\n",
    "\n",
    "print(f\"Random Forest CV Scores (MSE): {rf_cv_scores}\")\n",
    "print(f\"Mean CV Score (MSE): {rf_mean_cv_score}\")\n",
    "print(f\"Standard Deviation of CV Scores: {rf_std_cv_score}\")\n"
   ]
  },
  {
   "cell_type": "markdown",
   "id": "b0192a54",
   "metadata": {},
   "source": [
    "Model Selection"
   ]
  },
  {
   "cell_type": "code",
   "execution_count": null,
   "id": "d6ef8e5c",
   "metadata": {},
   "outputs": [],
   "source": [
    "The model with the lowest mean CV score (MSE) and reasonable standard deviation is selected. \n",
    "So, by seeing \n",
    "Linear Regression model( Mean CV Score (MSE): 848030023447.4722\n",
    "                         Standard Deviation of CV Scores: 802816591771.0247)\n",
    "and Random Forest Model(Mean CV Score (MSE): 721939625109.8162\n",
    "                        Standard Deviation of CV Scores: 809895514535.4335)\n",
    "\n",
    "RFM suits best. "
   ]
  },
  {
   "cell_type": "code",
   "execution_count": 2,
   "id": "b93092d4",
   "metadata": {},
   "outputs": [
    {
     "ename": "NameError",
     "evalue": "name 'RandomForestRegressor' is not defined",
     "output_type": "error",
     "traceback": [
      "\u001b[0;31m---------------------------------------------------------------------------\u001b[0m",
      "\u001b[0;31mNameError\u001b[0m                                 Traceback (most recent call last)",
      "\u001b[0;32m/var/folders/zw/6z44k3dj28b0lvg4nttddlh00000gn/T/ipykernel_29239/1524213602.py\u001b[0m in \u001b[0;36m<module>\u001b[0;34m\u001b[0m\n\u001b[1;32m      2\u001b[0m \u001b[0;34m\u001b[0m\u001b[0m\n\u001b[1;32m      3\u001b[0m \u001b[0;31m# Initialize the Random Forest Model\u001b[0m\u001b[0;34m\u001b[0m\u001b[0;34m\u001b[0m\u001b[0m\n\u001b[0;32m----> 4\u001b[0;31m \u001b[0mrf_model\u001b[0m \u001b[0;34m=\u001b[0m \u001b[0mRandomForestRegressor\u001b[0m\u001b[0;34m(\u001b[0m\u001b[0mrandom_state\u001b[0m\u001b[0;34m=\u001b[0m\u001b[0;36m42\u001b[0m\u001b[0;34m)\u001b[0m\u001b[0;34m\u001b[0m\u001b[0;34m\u001b[0m\u001b[0m\n\u001b[0m\u001b[1;32m      5\u001b[0m \u001b[0;34m\u001b[0m\u001b[0m\n\u001b[1;32m      6\u001b[0m \u001b[0;31m# Define the parameter grid for Random Forest\u001b[0m\u001b[0;34m\u001b[0m\u001b[0;34m\u001b[0m\u001b[0m\n",
      "\u001b[0;31mNameError\u001b[0m: name 'RandomForestRegressor' is not defined"
     ]
    }
   ],
   "source": [
    "# Hyperparameter Tuning Using GridSearchCV\n",
    "\n",
    "# Initialize the Random Forest Model\n",
    "rf_model = RandomForestRegressor(random_state=42)\n",
    "\n",
    "# Define the parameter grid for Random Forest\n",
    "param_grid = {\n",
    "    'n_estimators': [50, 100, 200],\n",
    "    'max_depth': [None, 10, 20, 30],\n",
    "    'min_samples_split': [2, 5, 10]\n",
    "}\n",
    "\n",
    "# Initialize GridSearchCV\n",
    "grid_search = GridSearchCV(estimator=rf_model, param_grid=param_grid, cv=5, scoring='neg_mean_squared_error', n_jobs=-1)\n",
    "\n",
    "# Fit the model\n",
    "grid_search.fit(X, y)\n",
    "\n",
    "# Get the best parameters and best score\n",
    "best_params = grid_search.best_params_\n",
    "best_score = -grid_search.best_score_\n",
    "\n",
    "print(f\"Best Parameters: {best_params}\")\n",
    "print(f\"Best CV Score (MSE): {best_score}\")\n",
    "\n",
    "\n"
   ]
  },
  {
   "cell_type": "code",
   "execution_count": null,
   "id": "fdec4cd0",
   "metadata": {},
   "outputs": [],
   "source": []
  }
 ],
 "metadata": {
  "kernelspec": {
   "display_name": "Python 3 (ipykernel)",
   "language": "python",
   "name": "python3"
  },
  "language_info": {
   "codemirror_mode": {
    "name": "ipython",
    "version": 3
   },
   "file_extension": ".py",
   "mimetype": "text/x-python",
   "name": "python",
   "nbconvert_exporter": "python",
   "pygments_lexer": "ipython3",
   "version": "3.9.13"
  }
 },
 "nbformat": 4,
 "nbformat_minor": 5
}
